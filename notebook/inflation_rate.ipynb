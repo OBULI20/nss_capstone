{
 "cells": [
  {
   "cell_type": "code",
   "execution_count": null,
   "id": "ca680313-8191-4372-bd1d-f62f9a462d7b",
   "metadata": {},
   "outputs": [],
   "source": [
    "import pandas as pd\n",
    "import numpy as np"
   ]
  },
  {
   "cell_type": "code",
   "execution_count": null,
   "id": "2e6eb638-409e-436b-9fb4-3f53859bbfa4",
   "metadata": {},
   "outputs": [],
   "source": [
    "df=pd.read_excel('../data/cpi.xlsx',sheet_name='cpi')\n",
    "df"
   ]
  },
  {
   "cell_type": "code",
   "execution_count": null,
   "id": "2d843233-5a91-453a-82ec-84c344beeede",
   "metadata": {},
   "outputs": [],
   "source": [
    "df1=df[['City','2013-change']]\n",
    "df1['year']='2013'\n",
    "df1=df1.rename(columns={'2013-change':'cpi'})\n",
    "df1"
   ]
  },
  {
   "cell_type": "code",
   "execution_count": null,
   "id": "9969cb2c-7a0a-4150-ab58-0edaa3178aed",
   "metadata": {},
   "outputs": [],
   "source": [
    "df2=df[['City','2014-change']]\n",
    "df2['year']='2014'\n",
    "df2=df2.rename(columns={'2014-change':'cpi'})\n",
    "df2"
   ]
  },
  {
   "cell_type": "code",
   "execution_count": null,
   "id": "b23aa58a-e33b-4c23-9295-907a7dcea2ef",
   "metadata": {},
   "outputs": [],
   "source": [
    "main=pd.concat([df1,df2])\n",
    "main"
   ]
  },
  {
   "cell_type": "code",
   "execution_count": null,
   "id": "16ae8017-e212-47f4-8ef5-56301cadc466",
   "metadata": {},
   "outputs": [],
   "source": [
    "df2=df[['City','2014-change']]\n",
    "df2['year']='2014'\n",
    "df2=df2.rename(columns={'2014-change':'cpi'})\n",
    "df2"
   ]
  },
  {
   "cell_type": "code",
   "execution_count": null,
   "id": "f02e7ed8-c99a-4b60-b411-9af47e180fa0",
   "metadata": {},
   "outputs": [],
   "source": [
    "df3=df[['City','2015-change']]\n",
    "df3['year']='2015'\n",
    "df3=df3.rename(columns={'2015-change':'cpi'})\n",
    "df3"
   ]
  },
  {
   "cell_type": "code",
   "execution_count": null,
   "id": "e0996678-f62e-44e9-ba1c-8fd77805d84b",
   "metadata": {},
   "outputs": [],
   "source": [
    "main=pd.concat([main,df3])\n",
    "main"
   ]
  },
  {
   "cell_type": "code",
   "execution_count": null,
   "id": "c582470e-8d17-4281-9f06-e615f5e40a0e",
   "metadata": {},
   "outputs": [],
   "source": [
    "df4=df[['City','2016-change']]\n",
    "df4['year']='2016'\n",
    "df4=df4.rename(columns={'2016-change':'cpi'})\n",
    "df4\n",
    "main=pd.concat([main,df4])\n",
    "main"
   ]
  },
  {
   "cell_type": "code",
   "execution_count": null,
   "id": "2810007e-e0db-4c55-8531-4e627a546d7f",
   "metadata": {},
   "outputs": [],
   "source": [
    "df5=df[['City','2017-change']]\n",
    "df5['year']='2017'\n",
    "df5=df5.rename(columns={'2017-change':'cpi'})\n",
    "df5\n",
    "main=pd.concat([main,df5])\n",
    "main"
   ]
  },
  {
   "cell_type": "code",
   "execution_count": null,
   "id": "58ff10c2-b875-4750-9248-bbcfa025fc05",
   "metadata": {},
   "outputs": [],
   "source": [
    "df6=df[['City','2018-change']]\n",
    "df6['year']='2018'\n",
    "df6=df6.rename(columns={'2018-change':'cpi'})\n",
    "df6\n",
    "main=pd.concat([main,df6])\n",
    "main"
   ]
  },
  {
   "cell_type": "code",
   "execution_count": null,
   "id": "dd3eb040-5382-4c4d-9108-df97bc6ab6f8",
   "metadata": {},
   "outputs": [],
   "source": [
    "df7=df[['City','2019-change']]\n",
    "df7['year']='2019'\n",
    "df7=df7.rename(columns={'2019-change':'cpi'})\n",
    "df7\n",
    "main=pd.concat([main,df7])\n",
    "main"
   ]
  },
  {
   "cell_type": "code",
   "execution_count": null,
   "id": "bdbae1ca-c000-48d8-a1e2-05066e67248e",
   "metadata": {},
   "outputs": [],
   "source": [
    "df8=df[['City','2020-change']]\n",
    "df8['year']='2020'\n",
    "df8=df8.rename(columns={'2020-change':'cpi'})\n",
    "df8\n",
    "main=pd.concat([main,df8])\n",
    "main"
   ]
  },
  {
   "cell_type": "code",
   "execution_count": null,
   "id": "4ef2f2a1-cdc3-4542-9cc1-1b93fb8e4acd",
   "metadata": {},
   "outputs": [],
   "source": [
    "df9=df[['City','2021-change']]\n",
    "df9['year']='2021'\n",
    "df9=df9.rename(columns={'2021-change':'cpi'})\n",
    "df9\n",
    "main=pd.concat([main,df9])\n",
    "main"
   ]
  },
  {
   "cell_type": "code",
   "execution_count": null,
   "id": "7422bf43-019b-4379-ab95-49693c824672",
   "metadata": {},
   "outputs": [],
   "source": [
    "df10=df[['City','2022-change']]\n",
    "df10['year']='2022'\n",
    "df10=df10.rename(columns={'2022-change':'cpi'})\n",
    "df10\n",
    "main=pd.concat([main,df10])\n",
    "main"
   ]
  },
  {
   "cell_type": "code",
   "execution_count": null,
   "id": "f38ff108-cccd-4212-acf1-631de2573c12",
   "metadata": {},
   "outputs": [],
   "source": [
    "df11=df[['City','2023-change']]\n",
    "df11['year']='2023'\n",
    "df11=df11.rename(columns={'2023-change':'cpi'})\n",
    "df11\n",
    "main=pd.concat([main,df11])\n",
    "main"
   ]
  },
  {
   "cell_type": "code",
   "execution_count": null,
   "id": "083ab40d-6947-42ee-8214-887eed4fafc8",
   "metadata": {},
   "outputs": [],
   "source": [
    "df12=df[['City','oct_2024-change']]\n",
    "df12['year']='2024'\n",
    "df12=df12.rename(columns={'oct_2024-change':'cpi'})\n",
    "df12\n",
    "main=pd.concat([main,df12])\n",
    "main"
   ]
  },
  {
   "cell_type": "code",
   "execution_count": null,
   "id": "5f68b782-3750-4ac9-98d6-bc9245751154",
   "metadata": {},
   "outputs": [],
   "source": [
    "main['area']='city'"
   ]
  },
  {
   "cell_type": "code",
   "execution_count": null,
   "id": "b02cd304-4152-4c1a-bdca-d231cc604b89",
   "metadata": {},
   "outputs": [],
   "source": [
    "main=main.rename(columns={'City':'name','year':'Year'})\n",
    "main"
   ]
  },
  {
   "cell_type": "code",
   "execution_count": null,
   "id": "b0c7622e-8e50-4f19-ad94-0d6d2e1b4615",
   "metadata": {},
   "outputs": [],
   "source": [
    "region=pd.read_excel('../data/cpi.xlsx',sheet_name='region')\n",
    "region=region.rename(columns={'CPI -12 month % change':'cpi','Region':'name'})\n",
    "region['area']='Region'\n",
    "region"
   ]
  },
  {
   "cell_type": "code",
   "execution_count": null,
   "id": "efb9cd5d-73b5-4c2a-9ce2-5298994cfabb",
   "metadata": {},
   "outputs": [],
   "source": [
    "final=pd.concat([main,region])\n",
    "final"
   ]
  },
  {
   "cell_type": "code",
   "execution_count": null,
   "id": "f740b7b8-95ef-4097-8f08-dba6784b30aa",
   "metadata": {},
   "outputs": [],
   "source": [
    "final['cpi']=final['cpi'].round(2)"
   ]
  },
  {
   "cell_type": "code",
   "execution_count": null,
   "id": "fc3d35c6-ab2f-412a-8a0f-f76b0b02620a",
   "metadata": {},
   "outputs": [],
   "source": [
    "final"
   ]
  },
  {
   "cell_type": "code",
   "execution_count": null,
   "id": "e4d73998-d973-4420-88b5-ac808ea9604c",
   "metadata": {},
   "outputs": [],
   "source": [
    "usa=pd.read_excel('../data/cpi.xlsx',sheet_name='us')\n",
    "usa['name']='USA'\n",
    "usa['area']='country'\n",
    "usa"
   ]
  },
  {
   "cell_type": "code",
   "execution_count": null,
   "id": "0d6ab5ba-36a8-4f54-a14b-412756b75a3d",
   "metadata": {},
   "outputs": [],
   "source": [
    "final_updated=pd.concat([final,usa])\n",
    "final_updated"
   ]
  },
  {
   "cell_type": "code",
   "execution_count": null,
   "id": "4b704822-6c0b-48ca-873e-bd432f122f90",
   "metadata": {},
   "outputs": [],
   "source": [
    "final_updated['Year']=final_updated['Year'].astype('int')\n",
    "final_updated.info()"
   ]
  },
  {
   "cell_type": "code",
   "execution_count": null,
   "id": "73e809ca-79ec-4bed-9b1f-3925df0a83c4",
   "metadata": {},
   "outputs": [],
   "source": [
    "final_updated.to_excel('inflation_rate.xlsx')"
   ]
  },
  {
   "cell_type": "code",
   "execution_count": null,
   "id": "9184df9d-e9a1-423f-bfcc-ccf1853b68c7",
   "metadata": {},
   "outputs": [],
   "source": []
  }
 ],
 "metadata": {
  "kernelspec": {
   "display_name": "Python 3 (ipykernel)",
   "language": "python",
   "name": "python3"
  },
  "language_info": {
   "codemirror_mode": {
    "name": "ipython",
    "version": 3
   },
   "file_extension": ".py",
   "mimetype": "text/x-python",
   "name": "python",
   "nbconvert_exporter": "python",
   "pygments_lexer": "ipython3",
   "version": "3.12.4"
  }
 },
 "nbformat": 4,
 "nbformat_minor": 5
}
