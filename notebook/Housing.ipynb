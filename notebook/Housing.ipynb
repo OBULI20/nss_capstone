{
 "cells": [
  {
   "cell_type": "code",
   "execution_count": null,
   "id": "f5f5a9c0-0afd-4486-aaf6-144f232aae98",
   "metadata": {},
   "outputs": [],
   "source": [
    "import pandas as pd\n",
    "import numpy as np\n",
    "import seaborn as sns\n",
    "import matplotlib.pyplot as plt\n"
   ]
  },
  {
   "cell_type": "code",
   "execution_count": null,
   "id": "75716005-e368-407c-ba00-5eb7a7725a8d",
   "metadata": {},
   "outputs": [],
   "source": [
    "inflation=pd.read_excel('../data/us_final.xlsx',sheet_name='inflation rate')\n",
    "inflation"
   ]
  },
  {
   "cell_type": "code",
   "execution_count": null,
   "id": "29c77b92-1261-4d67-8929-6080a7a3a249",
   "metadata": {},
   "outputs": [],
   "source": [
    "school=pd.read_excel('../data/us_final.xlsx',sheet_name='school_score')\n",
    "school"
   ]
  },
  {
   "cell_type": "code",
   "execution_count": null,
   "id": "0b253c73-c6b2-4202-87db-103615428879",
   "metadata": {},
   "outputs": [],
   "source": [
    "unemployment=pd.read_excel('../data/us_final.xlsx',sheet_name='unemployment_rate')\n",
    "unemployment"
   ]
  },
  {
   "cell_type": "code",
   "execution_count": null,
   "id": "d708589c-6b77-4732-9242-049a7b840f13",
   "metadata": {},
   "outputs": [],
   "source": [
    "income=pd.read_excel('../data/us_final.xlsx',sheet_name='median income')\n",
    "income"
   ]
  },
  {
   "cell_type": "code",
   "execution_count": null,
   "id": "9b6c325c-41cd-474e-8532-7488a5841294",
   "metadata": {},
   "outputs": [],
   "source": [
    "commodity_price=pd.read_excel('../data/us_final.xlsx',sheet_name='commodity_Price')\n",
    "commodity_price"
   ]
  },
  {
   "cell_type": "code",
   "execution_count": null,
   "id": "35011475-dc1e-47a4-b107-991d78f8105e",
   "metadata": {},
   "outputs": [],
   "source": [
    "house_price=pd.read_excel('../data/us_final.xlsx',sheet_name='House_price')\n",
    "house_price"
   ]
  },
  {
   "cell_type": "code",
   "execution_count": null,
   "id": "9f42a9d3-4f68-4f59-81fd-9ab7027fd722",
   "metadata": {},
   "outputs": [],
   "source": [
    "mortgage=pd.read_excel('../data/us_final.xlsx',sheet_name='mortgage_rate')\n",
    "mortgage"
   ]
  },
  {
   "cell_type": "code",
   "execution_count": null,
   "id": "46660e52-1447-4958-99c5-ead51382a058",
   "metadata": {},
   "outputs": [],
   "source": [
    "house_price.sort_values('house_price',ascending=False)"
   ]
  },
  {
   "cell_type": "code",
   "execution_count": null,
   "id": "9285e5e4-867d-46b0-b365-d4e191ff228a",
   "metadata": {},
   "outputs": [],
   "source": []
  }
 ],
 "metadata": {
  "kernelspec": {
   "display_name": "Python 3 (ipykernel)",
   "language": "python",
   "name": "python3"
  },
  "language_info": {
   "codemirror_mode": {
    "name": "ipython",
    "version": 3
   },
   "file_extension": ".py",
   "mimetype": "text/x-python",
   "name": "python",
   "nbconvert_exporter": "python",
   "pygments_lexer": "ipython3",
   "version": "3.12.4"
  }
 },
 "nbformat": 4,
 "nbformat_minor": 5
}
